{
 "cells": [
  {
   "cell_type": "markdown",
   "metadata": {},
   "source": [
    "import numpy as np\n",
    "import os\n",
    "import time\n",
    "from collections import namedtuple\n",
    "pd.set_option(\"display.max_rows\",100)\n",
    "%matplotlib inline"
   ]
  },
  {
   "cell_type": "code",
   "execution_count": 4,
   "metadata": {},
   "outputs": [],
   "source": [
    "import numpy as np \n",
    "import os \n",
    "import time \n",
    "import pandas as pd\n",
    "from collections import namedtuple \n",
    "pd.set_option(\"display.max_rows\",100) \n",
    "%matplotlib inline"
   ]
  },
  {
   "cell_type": "code",
   "execution_count": 7,
   "metadata": {},
   "outputs": [],
   "source": [
    "train_paths = {\"fraud_train\":\"data/preprocessed_train_data.pkl\"}\n",
    "test_paths = {\"fraud_test\":\"data/preprocessed_test_data.pkl\"}\n",
    "\n",
    "class preprocess:\n",
    "    \n",
    "    def get_data(paths):\n",
    "        \n",
    "        for key, value in paths.items():\n",
    "            sample_data = pd.read_pickle(value)\n",
    "            x = sample_data.iloc[:,:-2]\n",
    "            y = sample_data.iloc[:,-2:]\n",
    "            yield key, x.values, y.values"
   ]
  },
  {
   "cell_type": "code",
   "execution_count": 8,
   "metadata": {},
   "outputs": [],
   "source": [
    "import tensorflow as tf\n",
    "from tensorflow.contrib.legacy_seq2seq.python.ops.seq2seq import basic_rnn_seq2seq\n",
    "from tensorflow.contrib.rnn import RNNCell, LSTMCell, MultiRNNCell\n",
    "from sklearn import model_selection as ms\n",
    "from sklearn import metrics as me"
   ]
  },
  {
   "cell_type": "code",
   "execution_count": 9,
   "metadata": {},
   "outputs": [],
   "source": [
    "class network(object):\n",
    "    \n",
    "    input_dim = 30\n",
    "    classes = 2\n",
    "    hidden_encoder_dim = 30\n",
    "    hidden_layers = 3\n",
    "    latent_dim = 15\n",
    "\n",
    "    hidden_decoder_dim = 30\n",
    "    lam = 0.01\n",
    "    \n",
    "    def __init__(self, classes, hidden_layers, num_of_features):\n",
    "        self.classes = classes\n",
    "        self.hidden_layers = hidden_layers\n",
    "        self.latent_dim = num_of_features\n",
    "            \n",
    "    def build_layers(self):\n",
    "        tf.reset_default_graph()\n",
    "        #learning_rate = tf.Variable(initial_value=0.001)\n",
    "\n",
    "        input_dim = self.input_dim\n",
    "        classes = self.classes\n",
    "        hidden_encoder_dim = self.hidden_encoder_dim\n",
    "        hidden_layers = self.hidden_layers\n",
    "        latent_dim = self.latent_dim\n",
    "        hidden_decoder_dim = self.hidden_decoder_dim\n",
    "        lam = self.lam\n",
    "        \n",
    "        with tf.variable_scope(\"Input\"):\n",
    "            self.x_input = tf.placeholder(\"float\", shape=[None, 1, input_dim])\n",
    "            self.y_input_ = tf.placeholder(\"float\", shape=[None, 1, classes])\n",
    "            self.keep_prob = tf.placeholder(\"float\")\n",
    "            self.lr = tf.placeholder(\"float\")\n",
    "            self.x_list = tf.unstack(self.x_input, axis= 1)\n",
    "            self.y_list_ = tf.unstack(self.y_input_, axis = 1)\n",
    "            self.y_ = self.y_list_[0]\n",
    "            \n",
    "            #GO = tf.fill((tf.shape(self.x)[0], 1), 0.5)\n",
    "            \n",
    "            #y_with_GO = tf.stack([self.y_, GO])\n",
    "            \n",
    "        with tf.variable_scope(\"lstm\"):\n",
    "            multi_cell = MultiRNNCell([LSTMCell(input_dim) for i in range(hidden_layers)] )\n",
    "            \n",
    "            self.y, states = basic_rnn_seq2seq(self.x_list, self.y_list_, multi_cell)\n",
    "            #self.y = tf.slice(self.y, [0, 0], [-1,2])\n",
    "            \n",
    "            #self.out = tf.squeeze(self.y)\n",
    "            \n",
    "            #self.y = tf.layers.dense(self.y[0], classes, activation = None)\n",
    "            \n",
    "            self.y = tf.slice(self.y[0], [0, 0], [-1,2])\n",
    "            \n",
    "        with tf.variable_scope(\"Loss\"):\n",
    "            \n",
    "            self.regularized_loss = tf.losses.mean_squared_error(self.y_, self.y)\n",
    "            correct_prediction = tf.equal(tf.argmax(self.y_, 1), tf.argmax(self.y, 1))\n",
    "            self.tf_accuracy = tf.reduce_mean(tf.cast(correct_prediction, tf.float32), name = \"Accuracy\")\n",
    "\n",
    "        with tf.variable_scope(\"Optimizer\"):\n",
    "            learning_rate=self.lr\n",
    "            optimizer = tf.train.AdamOptimizer(learning_rate)\n",
    "            gradients, variables = zip(*optimizer.compute_gradients(self.regularized_loss))\n",
    "            gradients = [\n",
    "                None if gradient is None else tf.clip_by_value(gradient, -1, 1)\n",
    "                for gradient in gradients]\n",
    "            self.train_op = optimizer.apply_gradients(zip(gradients, variables))\n",
    "            #self.train_op = optimizer.minimize(self.regularized_loss)\n",
    "            \n",
    "        # add op for merging summary\n",
    "        #self.summary_op = tf.summary.merge_all()\n",
    "        self.pred = tf.argmax(self.y, axis = 1)\n",
    "        self.actual = tf.argmax(self.y_, axis = 1)\n",
    "\n",
    "        # add Saver ops\n",
    "        self.saver = tf.train.Saver()"
   ]
  },
  {
   "cell_type": "code",
   "execution_count": 10,
   "metadata": {},
   "outputs": [],
   "source": [
    "import collections\n",
    "\n",
    "class Train:    \n",
    "    \n",
    "    result = namedtuple(\"score\", ['key', 'no_of_features','hidden_layers','train_score', 'test_score', 'quality_score', 'time_taken'])\n",
    "\n",
    "    predictions = {}\n",
    "\n",
    "    results = []\n",
    "    best_acc = 0\n",
    "    best_acc_global = 0\n",
    "\n",
    "    def train(epochs, net, h,f, lrs):\n",
    "        batch_iterations = 1000\n",
    "        train_loss = None\n",
    "        Train.best_acc = 0\n",
    "        os.makedirs(\"data/tf_lstm_fraud_detection/hidden layers_{}_features count_{}\".format(h,f),\n",
    "                    exist_ok = True)\n",
    "        with tf.Session() as sess:\n",
    "            #summary_writer_train = tf.summary.FileWriter('./logs/kdd/VAE/training', graph=sess.graph)\n",
    "            #summary_writer_valid = tf.summary.FileWriter('./logs/kdd/VAE/validation')\n",
    "\n",
    "            sess.run(tf.global_variables_initializer())\n",
    "            start_time = time.perf_counter()\n",
    "            \n",
    "            \n",
    "            for c, lr in enumerate(lrs):\n",
    "                for epoch in range(1, (epochs+1)):\n",
    "                    for key, x_train, y_train in preprocess.get_data(train_paths):\n",
    "                        x_train, x_valid, y_train, y_valid, = ms.train_test_split(x_train, \n",
    "                                                                                  y_train, \n",
    "                                                                                  test_size=0.1)\n",
    "                        batch_indices = np.array_split(np.arange(x_train.shape[0]), \n",
    "                                                   batch_iterations)\n",
    "\n",
    "                        for i in batch_indices:\n",
    "\n",
    "                            _, train_loss = sess.run([net.train_op, net.regularized_loss], #net.summary_op\n",
    "                                                      feed_dict={net.x_input: x_train[i,np.newaxis,:], \n",
    "                                                                 net.y_input_: y_train[i,np.newaxis,:], \n",
    "                                                                 net.keep_prob:1, net.lr:lr})\n",
    "                            #summary_writer_train.add_summary(summary_str, epoch)\n",
    "                            if(train_loss > 1e9):\n",
    "                                print(\"Step {} | Training Loss: {:.6f}\".format(epoch, train_loss))\n",
    "\n",
    "\n",
    "                        valid_accuracy,valid_loss = sess.run([net.tf_accuracy, net.regularized_loss], #net.summary_op \n",
    "                                                              feed_dict={net.x_input: x_valid[:,np.newaxis,:], \n",
    "                                                                         net.y_input_: y_valid[:,np.newaxis,:], \n",
    "                                                                         net.keep_prob:1, net.lr:lr})\n",
    "                        #summary_writer_valid.add_summary(summary_str, epoch)\n",
    "\n",
    "                        \n",
    "                    end_time = time.perf_counter() \n",
    "                    for key, x_test, y_test in preprocess.get_data(train_paths):\n",
    "                        accuracy, pred_value, actual_value, y_pred = sess.run([net.tf_accuracy, \n",
    "                                                                               net.pred, \n",
    "                                                                               net.actual, net.y], \n",
    "                                                                              feed_dict={net.x_input: x_test[:,np.newaxis,:], \n",
    "                                                                                         net.y_input_: y_test[:,np.newaxis,:], \n",
    "                                                                                         net.keep_prob:1, net.lr:lr})\n",
    "\n",
    "                        quality_score = me.matthews_corrcoef(actual_value, pred_value)\n",
    "                        recall = me.recall_score(actual_value, pred_value)\n",
    "                        prec = me.precision_score(actual_value, pred_value)\n",
    "                        accuracy = me.roc_auc_score(actual_value, pred_value)\n",
    "                        \n",
    "                        print(\"Key {} | Training Loss: {:.6f} | Train Accuracy: {:.6f} | Test Accuracy: {:.6f}, quality_score: {}, recall: {}, prec: {}\".format(key, train_loss, valid_accuracy, accuracy, quality_score, recall, prec))\n",
    "\n",
    "                        if accuracy > Train.best_acc_global:\n",
    "                                    Train.best_acc_global = accuracy\n",
    "                                    Train.pred_value = pred_value\n",
    "                                    Train.actual_value = actual_value\n",
    "\n",
    "                                    Train.best_parameters = \"Hidden Layers:{}, Features Count:{}\".format(h, f)\n",
    "\n",
    "                        curr_pred = pd.DataFrame({\"Fraud_prob\":y_pred[:,-2], \"Normal_prob\":y_pred[:, -1], \"Prediction\":pred_value, \"Actual\":actual_value})\n",
    "                        Train.predictions.update({\"{}_{}_{}\".format(key,f,h):\n",
    "                                                  (curr_pred, \n",
    "                                                   Train.result(key, f, h,valid_accuracy, accuracy, quality_score, end_time - start_time))})"
   ]
  },
  {
   "cell_type": "code",
   "execution_count": 11,
   "metadata": {},
   "outputs": [],
   "source": [
    "import itertools\n",
    "\n",
    "df_results = []\n",
    "past_scores = []\n",
    "\n",
    "class Hyperparameters:\n",
    "#    features_arr = [2, 4, 8, 16, 32, 64, 128, 256]\n",
    "#    hidden_layers_arr = [2, 4, 6, 10]\n",
    "\n",
    "    def start_training():\n",
    "\n",
    "        global df_results\n",
    "        global past_scores\n",
    "        \n",
    "        Train.predictions = {}\n",
    "        Train.results = []\n",
    "        \n",
    "        features_arr = [15, 30] #[4, 8, 16, 32]\n",
    "        hidden_layers_arr = [1, 3]\n",
    "\n",
    "        epochs = [25]\n",
    "        lrs = [1e-2] #[1e-2, 1e-2/2, 1e-2/4]\n",
    "\n",
    "        for e, h, f in itertools.product(epochs, hidden_layers_arr, features_arr):\n",
    "            print(\"Current Layer Attributes - epochs:{} hidden layers:{} features count:{}\".format(e,h,f))\n",
    "            n = network(2,h,f)\n",
    "            n.build_layers()\n",
    "            Train.train(e, n, h,f, lrs)\n",
    "            \n",
    "        dict1 = {}\n",
    "        dict2 = []\n",
    "        for k, (v1, v2) in Train.predictions.items():\n",
    "            dict1.update({k: v1})\n",
    "            dict2.append(v2)\n",
    "            \n",
    "        Train.predictions = dict1\n",
    "        Train.results = dict2\n",
    "        df_results = pd.DataFrame(Train.results)\n",
    "        #temp = df_results.set_index(['no_of_features', 'hidden_layers'])\n",
    "\n",
    "        if not os.path.isfile('data/scores/tf_lstm_fraud_detection.pkl'):\n",
    "            past_scores = df_results\n",
    "        else:\n",
    "            past_scores = pd.read_pickle(\"data/scores/tf_lstm_fraud_detection.pkl\")\n",
    "\n",
    "        past_scores.append(df_results).to_pickle(\"data/scores/tf_lstm_fraud_detection.pkl\")"
   ]
  },
  {
   "cell_type": "code",
   "execution_count": 12,
   "metadata": {},
   "outputs": [
    {
     "name": "stdout",
     "output_type": "stream",
     "text": [
      "Current Layer Attributes - epochs:25 hidden layers:1 features count:15\n"
     ]
    },
    {
     "name": "stderr",
     "output_type": "stream",
     "text": [
      "c:\\users\\anusha\\appdata\\local\\programs\\python\\python36\\lib\\site-packages\\sklearn\\metrics\\classification.py:538: RuntimeWarning: invalid value encountered in double_scalars\n",
      "  mcc = cov_ytyp / np.sqrt(cov_ytyt * cov_ypyp)\n",
      "c:\\users\\anusha\\appdata\\local\\programs\\python\\python36\\lib\\site-packages\\sklearn\\metrics\\classification.py:1135: UndefinedMetricWarning: Precision is ill-defined and being set to 0.0 due to no predicted samples.\n",
      "  'precision', 'predicted', average, warn_for)\n"
     ]
    },
    {
     "name": "stdout",
     "output_type": "stream",
     "text": [
      "Key fraud_train | Training Loss: 0.000663 | Train Accuracy: 0.998194 | Test Accuracy: 0.500000, quality_score: 0.0, recall: 0.0, prec: 0.0\n",
      "Key fraud_train | Training Loss: 0.000651 | Train Accuracy: 0.997843 | Test Accuracy: 0.500000, quality_score: 0.0, recall: 0.0, prec: 0.0\n",
      "Key fraud_train | Training Loss: 0.000649 | Train Accuracy: 0.998796 | Test Accuracy: 0.500000, quality_score: 0.0, recall: 0.0, prec: 0.0\n",
      "Key fraud_train | Training Loss: 0.000648 | Train Accuracy: 0.998295 | Test Accuracy: 0.500000, quality_score: 0.0, recall: 0.0, prec: 0.0\n",
      "Key fraud_train | Training Loss: 0.000648 | Train Accuracy: 0.997944 | Test Accuracy: 0.500000, quality_score: 0.0, recall: 0.0, prec: 0.0\n",
      "Key fraud_train | Training Loss: 0.000820 | Train Accuracy: 1.000000 | Test Accuracy: 1.000000, quality_score: 1.0, recall: 1.0, prec: 1.0\n",
      "Key fraud_train | Training Loss: 0.000655 | Train Accuracy: 1.000000 | Test Accuracy: 1.000000, quality_score: 1.0, recall: 1.0, prec: 1.0\n",
      "Key fraud_train | Training Loss: 0.000651 | Train Accuracy: 1.000000 | Test Accuracy: 1.000000, quality_score: 1.0, recall: 1.0, prec: 1.0\n",
      "Key fraud_train | Training Loss: 0.000649 | Train Accuracy: 1.000000 | Test Accuracy: 1.000000, quality_score: 1.0, recall: 1.0, prec: 1.0\n",
      "Key fraud_train | Training Loss: 0.000648 | Train Accuracy: 1.000000 | Test Accuracy: 1.000000, quality_score: 1.0, recall: 1.0, prec: 1.0\n",
      "Key fraud_train | Training Loss: 0.000648 | Train Accuracy: 1.000000 | Test Accuracy: 1.000000, quality_score: 1.0, recall: 1.0, prec: 1.0\n",
      "Key fraud_train | Training Loss: 0.000647 | Train Accuracy: 1.000000 | Test Accuracy: 1.000000, quality_score: 1.0, recall: 1.0, prec: 1.0\n",
      "Key fraud_train | Training Loss: 0.000647 | Train Accuracy: 1.000000 | Test Accuracy: 1.000000, quality_score: 1.0, recall: 1.0, prec: 1.0\n",
      "Key fraud_train | Training Loss: 0.000647 | Train Accuracy: 1.000000 | Test Accuracy: 1.000000, quality_score: 1.0, recall: 1.0, prec: 1.0\n",
      "Key fraud_train | Training Loss: 0.000647 | Train Accuracy: 1.000000 | Test Accuracy: 1.000000, quality_score: 1.0, recall: 1.0, prec: 1.0\n",
      "Key fraud_train | Training Loss: 0.000647 | Train Accuracy: 1.000000 | Test Accuracy: 1.000000, quality_score: 1.0, recall: 1.0, prec: 1.0\n",
      "Key fraud_train | Training Loss: 0.000647 | Train Accuracy: 1.000000 | Test Accuracy: 1.000000, quality_score: 1.0, recall: 1.0, prec: 1.0\n",
      "Key fraud_train | Training Loss: 0.000647 | Train Accuracy: 1.000000 | Test Accuracy: 1.000000, quality_score: 1.0, recall: 1.0, prec: 1.0\n",
      "Key fraud_train | Training Loss: 0.000647 | Train Accuracy: 1.000000 | Test Accuracy: 1.000000, quality_score: 1.0, recall: 1.0, prec: 1.0\n",
      "Key fraud_train | Training Loss: 0.000647 | Train Accuracy: 1.000000 | Test Accuracy: 1.000000, quality_score: 1.0, recall: 1.0, prec: 1.0\n",
      "Key fraud_train | Training Loss: 0.000647 | Train Accuracy: 1.000000 | Test Accuracy: 1.000000, quality_score: 1.0, recall: 1.0, prec: 1.0\n",
      "Key fraud_train | Training Loss: 0.000647 | Train Accuracy: 1.000000 | Test Accuracy: 1.000000, quality_score: 1.0, recall: 1.0, prec: 1.0\n",
      "Key fraud_train | Training Loss: 0.000647 | Train Accuracy: 1.000000 | Test Accuracy: 1.000000, quality_score: 1.0, recall: 1.0, prec: 1.0\n",
      "Key fraud_train | Training Loss: 0.000647 | Train Accuracy: 1.000000 | Test Accuracy: 1.000000, quality_score: 1.0, recall: 1.0, prec: 1.0\n",
      "Key fraud_train | Training Loss: 0.000647 | Train Accuracy: 1.000000 | Test Accuracy: 1.000000, quality_score: 1.0, recall: 1.0, prec: 1.0\n",
      "Current Layer Attributes - epochs:25 hidden layers:1 features count:30\n",
      "Key fraud_train | Training Loss: 0.000650 | Train Accuracy: 0.998596 | Test Accuracy: 0.500000, quality_score: 0.0, recall: 0.0, prec: 0.0\n",
      "Key fraud_train | Training Loss: 0.000650 | Train Accuracy: 0.998244 | Test Accuracy: 0.500000, quality_score: 0.0, recall: 0.0, prec: 0.0\n",
      "Key fraud_train | Training Loss: 0.000651 | Train Accuracy: 0.997592 | Test Accuracy: 0.500000, quality_score: 0.0, recall: 0.0, prec: 0.0\n",
      "Key fraud_train | Training Loss: 0.000648 | Train Accuracy: 0.998144 | Test Accuracy: 0.500000, quality_score: 0.0, recall: 0.0, prec: 0.0\n",
      "Key fraud_train | Training Loss: 0.003402 | Train Accuracy: 0.997843 | Test Accuracy: 0.500000, quality_score: 0.0, recall: 0.0, prec: 0.0\n",
      "Key fraud_train | Training Loss: 0.000647 | Train Accuracy: 0.997994 | Test Accuracy: 0.500000, quality_score: 0.0, recall: 0.0, prec: 0.0\n",
      "Key fraud_train | Training Loss: 0.003400 | Train Accuracy: 0.998244 | Test Accuracy: 0.500000, quality_score: 0.0, recall: 0.0, prec: 0.0\n",
      "Key fraud_train | Training Loss: 0.000647 | Train Accuracy: 0.998194 | Test Accuracy: 0.500000, quality_score: 0.0, recall: 0.0, prec: 0.0\n",
      "Key fraud_train | Training Loss: 0.002457 | Train Accuracy: 0.998044 | Test Accuracy: 0.500000, quality_score: 0.0, recall: 0.0, prec: 0.0\n",
      "Key fraud_train | Training Loss: 0.002430 | Train Accuracy: 0.998345 | Test Accuracy: 0.500000, quality_score: 0.0, recall: 0.0, prec: 0.0\n",
      "Key fraud_train | Training Loss: 0.000654 | Train Accuracy: 1.000000 | Test Accuracy: 1.000000, quality_score: 1.0, recall: 1.0, prec: 1.0\n",
      "Key fraud_train | Training Loss: 0.000649 | Train Accuracy: 1.000000 | Test Accuracy: 1.000000, quality_score: 1.0, recall: 1.0, prec: 1.0\n",
      "Key fraud_train | Training Loss: 0.000648 | Train Accuracy: 1.000000 | Test Accuracy: 1.000000, quality_score: 1.0, recall: 1.0, prec: 1.0\n",
      "Key fraud_train | Training Loss: 0.000803 | Train Accuracy: 1.000000 | Test Accuracy: 1.000000, quality_score: 1.0, recall: 1.0, prec: 1.0\n",
      "Key fraud_train | Training Loss: 0.000647 | Train Accuracy: 1.000000 | Test Accuracy: 1.000000, quality_score: 1.0, recall: 1.0, prec: 1.0\n",
      "Key fraud_train | Training Loss: 0.000647 | Train Accuracy: 1.000000 | Test Accuracy: 1.000000, quality_score: 1.0, recall: 1.0, prec: 1.0\n",
      "Key fraud_train | Training Loss: 0.000958 | Train Accuracy: 1.000000 | Test Accuracy: 1.000000, quality_score: 1.0, recall: 1.0, prec: 1.0\n",
      "Key fraud_train | Training Loss: 0.000802 | Train Accuracy: 1.000000 | Test Accuracy: 1.000000, quality_score: 1.0, recall: 1.0, prec: 1.0\n",
      "Key fraud_train | Training Loss: 0.000647 | Train Accuracy: 1.000000 | Test Accuracy: 1.000000, quality_score: 1.0, recall: 1.0, prec: 1.0\n",
      "Key fraud_train | Training Loss: 0.000647 | Train Accuracy: 1.000000 | Test Accuracy: 1.000000, quality_score: 1.0, recall: 1.0, prec: 1.0\n",
      "Key fraud_train | Training Loss: 0.000802 | Train Accuracy: 1.000000 | Test Accuracy: 1.000000, quality_score: 1.0, recall: 1.0, prec: 1.0\n",
      "Key fraud_train | Training Loss: 0.000647 | Train Accuracy: 1.000000 | Test Accuracy: 1.000000, quality_score: 1.0, recall: 1.0, prec: 1.0\n",
      "Key fraud_train | Training Loss: 0.000802 | Train Accuracy: 1.000000 | Test Accuracy: 1.000000, quality_score: 1.0, recall: 1.0, prec: 1.0\n",
      "Key fraud_train | Training Loss: 0.000802 | Train Accuracy: 1.000000 | Test Accuracy: 1.000000, quality_score: 1.0, recall: 1.0, prec: 1.0\n",
      "Key fraud_train | Training Loss: 0.000647 | Train Accuracy: 1.000000 | Test Accuracy: 1.000000, quality_score: 1.0, recall: 1.0, prec: 1.0\n",
      "Current Layer Attributes - epochs:25 hidden layers:3 features count:15\n",
      "Key fraud_train | Training Loss: 0.000662 | Train Accuracy: 0.998796 | Test Accuracy: 0.500000, quality_score: 0.0, recall: 0.0, prec: 0.0\n",
      "Key fraud_train | Training Loss: 0.000648 | Train Accuracy: 0.998345 | Test Accuracy: 0.500000, quality_score: 0.0, recall: 0.0, prec: 0.0\n",
      "Key fraud_train | Training Loss: 0.000647 | Train Accuracy: 0.998345 | Test Accuracy: 0.500000, quality_score: 0.0, recall: 0.0, prec: 0.0\n",
      "Key fraud_train | Training Loss: 0.000647 | Train Accuracy: 0.998244 | Test Accuracy: 0.500000, quality_score: 0.0, recall: 0.0, prec: 0.0\n",
      "Key fraud_train | Training Loss: 0.000647 | Train Accuracy: 0.998495 | Test Accuracy: 0.500000, quality_score: 0.0, recall: 0.0, prec: 0.0\n",
      "Key fraud_train | Training Loss: 0.000647 | Train Accuracy: 0.998395 | Test Accuracy: 0.500000, quality_score: 0.0, recall: 0.0, prec: 0.0\n",
      "Key fraud_train | Training Loss: 0.000647 | Train Accuracy: 0.998746 | Test Accuracy: 0.500000, quality_score: 0.0, recall: 0.0, prec: 0.0\n",
      "Key fraud_train | Training Loss: 0.000647 | Train Accuracy: 0.998194 | Test Accuracy: 0.500000, quality_score: 0.0, recall: 0.0, prec: 0.0\n"
     ]
    },
    {
     "name": "stdout",
     "output_type": "stream",
     "text": [
      "Key fraud_train | Training Loss: 0.000647 | Train Accuracy: 0.997944 | Test Accuracy: 0.500000, quality_score: 0.0, recall: 0.0, prec: 0.0\n",
      "Key fraud_train | Training Loss: 0.006033 | Train Accuracy: 0.998144 | Test Accuracy: 0.500000, quality_score: 0.0, recall: 0.0, prec: 0.0\n",
      "Key fraud_train | Training Loss: 0.000647 | Train Accuracy: 0.997693 | Test Accuracy: 0.500000, quality_score: 0.0, recall: 0.0, prec: 0.0\n",
      "Key fraud_train | Training Loss: 0.000647 | Train Accuracy: 0.997793 | Test Accuracy: 0.500000, quality_score: 0.0, recall: 0.0, prec: 0.0\n",
      "Key fraud_train | Training Loss: 0.006033 | Train Accuracy: 0.998646 | Test Accuracy: 0.500000, quality_score: 0.0, recall: 0.0, prec: 0.0\n",
      "Key fraud_train | Training Loss: 0.000647 | Train Accuracy: 0.998144 | Test Accuracy: 0.500000, quality_score: 0.0, recall: 0.0, prec: 0.0\n",
      "Key fraud_train | Training Loss: 0.000647 | Train Accuracy: 0.998495 | Test Accuracy: 0.500000, quality_score: 0.0, recall: 0.0, prec: 0.0\n",
      "Key fraud_train | Training Loss: 0.000647 | Train Accuracy: 0.998696 | Test Accuracy: 0.500000, quality_score: 0.0, recall: 0.0, prec: 0.0\n",
      "Key fraud_train | Training Loss: 0.000647 | Train Accuracy: 0.998194 | Test Accuracy: 0.500000, quality_score: 0.0, recall: 0.0, prec: 0.0\n",
      "Key fraud_train | Training Loss: 0.006033 | Train Accuracy: 0.998345 | Test Accuracy: 0.500000, quality_score: 0.0, recall: 0.0, prec: 0.0\n",
      "Key fraud_train | Training Loss: 0.006033 | Train Accuracy: 0.998846 | Test Accuracy: 0.500000, quality_score: 0.0, recall: 0.0, prec: 0.0\n",
      "Key fraud_train | Training Loss: 0.000647 | Train Accuracy: 0.998345 | Test Accuracy: 0.500000, quality_score: 0.0, recall: 0.0, prec: 0.0\n",
      "Key fraud_train | Training Loss: 0.000647 | Train Accuracy: 0.998345 | Test Accuracy: 0.500000, quality_score: 0.0, recall: 0.0, prec: 0.0\n",
      "Key fraud_train | Training Loss: 0.000647 | Train Accuracy: 0.998596 | Test Accuracy: 0.500000, quality_score: 0.0, recall: 0.0, prec: 0.0\n",
      "Key fraud_train | Training Loss: 0.000647 | Train Accuracy: 0.998596 | Test Accuracy: 0.500000, quality_score: 0.0, recall: 0.0, prec: 0.0\n",
      "Key fraud_train | Training Loss: 0.000647 | Train Accuracy: 0.998596 | Test Accuracy: 0.500000, quality_score: 0.0, recall: 0.0, prec: 0.0\n",
      "Key fraud_train | Training Loss: 0.000647 | Train Accuracy: 0.998395 | Test Accuracy: 0.500000, quality_score: 0.0, recall: 0.0, prec: 0.0\n",
      "Current Layer Attributes - epochs:25 hidden layers:3 features count:30\n",
      "Key fraud_train | Training Loss: 0.000651 | Train Accuracy: 0.998495 | Test Accuracy: 0.500000, quality_score: 0.0, recall: 0.0, prec: 0.0\n",
      "Key fraud_train | Training Loss: 0.000648 | Train Accuracy: 0.997592 | Test Accuracy: 0.500000, quality_score: 0.0, recall: 0.0, prec: 0.0\n",
      "Key fraud_train | Training Loss: 0.000648 | Train Accuracy: 0.997793 | Test Accuracy: 0.500000, quality_score: 0.0, recall: 0.0, prec: 0.0\n",
      "Key fraud_train | Training Loss: 0.000648 | Train Accuracy: 1.000000 | Test Accuracy: 1.000000, quality_score: 1.0, recall: 1.0, prec: 1.0\n",
      "Key fraud_train | Training Loss: 0.000647 | Train Accuracy: 1.000000 | Test Accuracy: 1.000000, quality_score: 1.0, recall: 1.0, prec: 1.0\n",
      "Key fraud_train | Training Loss: 0.000647 | Train Accuracy: 1.000000 | Test Accuracy: 1.000000, quality_score: 1.0, recall: 1.0, prec: 1.0\n",
      "Key fraud_train | Training Loss: 0.000647 | Train Accuracy: 1.000000 | Test Accuracy: 1.000000, quality_score: 1.0, recall: 1.0, prec: 1.0\n",
      "Key fraud_train | Training Loss: 0.000647 | Train Accuracy: 1.000000 | Test Accuracy: 1.000000, quality_score: 1.0, recall: 1.0, prec: 1.0\n",
      "Key fraud_train | Training Loss: 0.000957 | Train Accuracy: 1.000000 | Test Accuracy: 1.000000, quality_score: 1.0, recall: 1.0, prec: 1.0\n",
      "Key fraud_train | Training Loss: 0.000647 | Train Accuracy: 1.000000 | Test Accuracy: 1.000000, quality_score: 1.0, recall: 1.0, prec: 1.0\n",
      "Key fraud_train | Training Loss: 0.000647 | Train Accuracy: 1.000000 | Test Accuracy: 1.000000, quality_score: 1.0, recall: 1.0, prec: 1.0\n",
      "Key fraud_train | Training Loss: 0.000647 | Train Accuracy: 1.000000 | Test Accuracy: 1.000000, quality_score: 1.0, recall: 1.0, prec: 1.0\n",
      "Key fraud_train | Training Loss: 0.000802 | Train Accuracy: 1.000000 | Test Accuracy: 1.000000, quality_score: 1.0, recall: 1.0, prec: 1.0\n",
      "Key fraud_train | Training Loss: 0.000647 | Train Accuracy: 1.000000 | Test Accuracy: 1.000000, quality_score: 1.0, recall: 1.0, prec: 1.0\n",
      "Key fraud_train | Training Loss: 0.000647 | Train Accuracy: 1.000000 | Test Accuracy: 1.000000, quality_score: 1.0, recall: 1.0, prec: 1.0\n",
      "Key fraud_train | Training Loss: 0.000647 | Train Accuracy: 1.000000 | Test Accuracy: 1.000000, quality_score: 1.0, recall: 1.0, prec: 1.0\n",
      "Key fraud_train | Training Loss: 0.000647 | Train Accuracy: 1.000000 | Test Accuracy: 1.000000, quality_score: 1.0, recall: 1.0, prec: 1.0\n",
      "Key fraud_train | Training Loss: 0.000802 | Train Accuracy: 1.000000 | Test Accuracy: 1.000000, quality_score: 1.0, recall: 1.0, prec: 1.0\n",
      "Key fraud_train | Training Loss: 0.000647 | Train Accuracy: 1.000000 | Test Accuracy: 1.000000, quality_score: 1.0, recall: 1.0, prec: 1.0\n",
      "Key fraud_train | Training Loss: 0.000647 | Train Accuracy: 1.000000 | Test Accuracy: 1.000000, quality_score: 1.0, recall: 1.0, prec: 1.0\n",
      "Key fraud_train | Training Loss: 0.000802 | Train Accuracy: 1.000000 | Test Accuracy: 1.000000, quality_score: 1.0, recall: 1.0, prec: 1.0\n",
      "Key fraud_train | Training Loss: 0.000647 | Train Accuracy: 1.000000 | Test Accuracy: 1.000000, quality_score: 1.0, recall: 1.0, prec: 1.0\n",
      "Key fraud_train | Training Loss: 0.000647 | Train Accuracy: 1.000000 | Test Accuracy: 1.000000, quality_score: 1.0, recall: 1.0, prec: 1.0\n",
      "Key fraud_train | Training Loss: 0.000647 | Train Accuracy: 1.000000 | Test Accuracy: 1.000000, quality_score: 1.0, recall: 1.0, prec: 1.0\n",
      "Key fraud_train | Training Loss: 0.000647 | Train Accuracy: 1.000000 | Test Accuracy: 1.000000, quality_score: 1.0, recall: 1.0, prec: 1.0\n"
     ]
    }
   ],
   "source": [
    "Hyperparameters.start_training()"
   ]
  },
  {
   "cell_type": "code",
   "execution_count": 13,
   "metadata": {},
   "outputs": [],
   "source": [
    "pd.Panel(Train.predictions).to_pickle(\"data/LSTM/tf_lstm_fraud_detection_predictions.pkl\")\n",
    "df_results.to_pickle(\"data/LSTM/tf_lstm_fraud_detection_scores.pkl\")"
   ]
  },
  {
   "cell_type": "code",
   "execution_count": 14,
   "metadata": {},
   "outputs": [],
   "source": [
    "import numpy as np\n",
    "import matplotlib.pyplot as plt\n",
    "import itertools\n",
    "\n",
    "def plot_confusion_matrix(cm, classes,\n",
    "                          normalize=False,\n",
    "                          title='Confusion matrix',\n",
    "                          cmap=plt.cm.Blues):\n",
    "    \"\"\"\n",
    "    This function prints and plots the confusion matrix.\n",
    "    Normalization can be applied by setting `normalize=True`.\n",
    "    \"\"\"\n",
    "    np.set_printoptions(precision=4)\n",
    "\n",
    "    plt.imshow(cm, interpolation='nearest', cmap=cmap)\n",
    "    plt.title(title)\n",
    "    plt.colorbar()\n",
    "    tick_marks = np.arange(len(classes))\n",
    "    plt.xticks(tick_marks, classes, rotation=45)\n",
    "    plt.yticks(tick_marks, classes)\n",
    "\n",
    "    if normalize:\n",
    "        cm = cm.astype('float') / cm.sum(axis=1)[:, np.newaxis]\n",
    "        #print(\"Normalized confusion matrix\")\n",
    "    else:\n",
    "        #print('Confusion matrix, without normalization')\n",
    "        pass\n",
    "    \n",
    "    #print(cm)\n",
    "\n",
    "    label = [[\"\\n True Positive\", \"\\n False Negative \\n Type II Error\"],\n",
    "             [\"\\n False Positive \\n Type I Error\", \"\\n True Negative\"]\n",
    "            ]\n",
    "    \n",
    "    thresh = cm.max() / 2.\n",
    "    for i, j in itertools.product(range(cm.shape[0]), range(cm.shape[1])):\n",
    "        \n",
    "        plt.text(j, i, \"{} {}\".format(cm[i, j].round(4), label[i][j]),\n",
    "                 horizontalalignment=\"center\",\n",
    "                 color=\"white\" if cm[i, j] > thresh else \"black\")\n",
    "\n",
    "    plt.tight_layout()\n",
    "    plt.ylabel('True label')\n",
    "    plt.xlabel('Predicted label')\n",
    "\n",
    "def plot(actual_value, pred_value):\n",
    "    from sklearn.metrics import confusion_matrix\n",
    "\n",
    "    cm_2labels = confusion_matrix(y_pred = pred_value, y_true = actual_value)\n",
    "    plt.figure(figsize=[6,6])\n",
    "    plot_confusion_matrix(cm_2labels, ['Normal', 'Fraud'], normalize = False)"
   ]
  },
  {
   "cell_type": "code",
   "execution_count": 15,
   "metadata": {},
   "outputs": [],
   "source": [
    "past_scores = pd.read_pickle(\"data/scores/tf_lstm_fraud_detection.pkl\")"
   ]
  },
  {
   "cell_type": "code",
   "execution_count": 16,
   "metadata": {},
   "outputs": [
    {
     "data": {
      "text/html": [
       "<div>\n",
       "<style scoped>\n",
       "    .dataframe tbody tr th:only-of-type {\n",
       "        vertical-align: middle;\n",
       "    }\n",
       "\n",
       "    .dataframe tbody tr th {\n",
       "        vertical-align: top;\n",
       "    }\n",
       "\n",
       "    .dataframe thead th {\n",
       "        text-align: right;\n",
       "    }\n",
       "</style>\n",
       "<table border=\"1\" class=\"dataframe\">\n",
       "  <thead>\n",
       "    <tr style=\"text-align: right;\">\n",
       "      <th></th>\n",
       "      <th>key</th>\n",
       "      <th>no_of_features</th>\n",
       "      <th>hidden_layers</th>\n",
       "      <th>train_score</th>\n",
       "      <th>test_score</th>\n",
       "      <th>quality_score</th>\n",
       "      <th>time_taken</th>\n",
       "    </tr>\n",
       "  </thead>\n",
       "  <tbody>\n",
       "    <tr>\n",
       "      <th>1</th>\n",
       "      <td>fraud_train</td>\n",
       "      <td>30</td>\n",
       "      <td>1</td>\n",
       "      <td>1.000000</td>\n",
       "      <td>1.0</td>\n",
       "      <td>1.0</td>\n",
       "      <td>16.865401</td>\n",
       "    </tr>\n",
       "    <tr>\n",
       "      <th>2</th>\n",
       "      <td>fraud_train</td>\n",
       "      <td>15</td>\n",
       "      <td>3</td>\n",
       "      <td>1.000000</td>\n",
       "      <td>1.0</td>\n",
       "      <td>1.0</td>\n",
       "      <td>34.888917</td>\n",
       "    </tr>\n",
       "    <tr>\n",
       "      <th>3</th>\n",
       "      <td>fraud_train</td>\n",
       "      <td>30</td>\n",
       "      <td>3</td>\n",
       "      <td>1.000000</td>\n",
       "      <td>1.0</td>\n",
       "      <td>1.0</td>\n",
       "      <td>35.212270</td>\n",
       "    </tr>\n",
       "    <tr>\n",
       "      <th>1</th>\n",
       "      <td>fraud_train</td>\n",
       "      <td>30</td>\n",
       "      <td>1</td>\n",
       "      <td>1.000000</td>\n",
       "      <td>1.0</td>\n",
       "      <td>1.0</td>\n",
       "      <td>16.865401</td>\n",
       "    </tr>\n",
       "    <tr>\n",
       "      <th>2</th>\n",
       "      <td>fraud_train</td>\n",
       "      <td>15</td>\n",
       "      <td>3</td>\n",
       "      <td>1.000000</td>\n",
       "      <td>1.0</td>\n",
       "      <td>1.0</td>\n",
       "      <td>34.888917</td>\n",
       "    </tr>\n",
       "    <tr>\n",
       "      <th>3</th>\n",
       "      <td>fraud_train</td>\n",
       "      <td>30</td>\n",
       "      <td>3</td>\n",
       "      <td>1.000000</td>\n",
       "      <td>1.0</td>\n",
       "      <td>1.0</td>\n",
       "      <td>35.212270</td>\n",
       "    </tr>\n",
       "    <tr>\n",
       "      <th>0</th>\n",
       "      <td>fraud_train</td>\n",
       "      <td>15</td>\n",
       "      <td>1</td>\n",
       "      <td>1.000000</td>\n",
       "      <td>1.0</td>\n",
       "      <td>1.0</td>\n",
       "      <td>87.747294</td>\n",
       "    </tr>\n",
       "    <tr>\n",
       "      <th>1</th>\n",
       "      <td>fraud_train</td>\n",
       "      <td>30</td>\n",
       "      <td>1</td>\n",
       "      <td>1.000000</td>\n",
       "      <td>1.0</td>\n",
       "      <td>1.0</td>\n",
       "      <td>86.893035</td>\n",
       "    </tr>\n",
       "    <tr>\n",
       "      <th>3</th>\n",
       "      <td>fraud_train</td>\n",
       "      <td>30</td>\n",
       "      <td>3</td>\n",
       "      <td>1.000000</td>\n",
       "      <td>1.0</td>\n",
       "      <td>1.0</td>\n",
       "      <td>180.114206</td>\n",
       "    </tr>\n",
       "    <tr>\n",
       "      <th>0</th>\n",
       "      <td>fraud_train</td>\n",
       "      <td>15</td>\n",
       "      <td>1</td>\n",
       "      <td>0.998194</td>\n",
       "      <td>0.5</td>\n",
       "      <td>0.0</td>\n",
       "      <td>17.991847</td>\n",
       "    </tr>\n",
       "    <tr>\n",
       "      <th>0</th>\n",
       "      <td>fraud_train</td>\n",
       "      <td>15</td>\n",
       "      <td>1</td>\n",
       "      <td>0.998194</td>\n",
       "      <td>0.5</td>\n",
       "      <td>0.0</td>\n",
       "      <td>17.991847</td>\n",
       "    </tr>\n",
       "    <tr>\n",
       "      <th>2</th>\n",
       "      <td>fraud_train</td>\n",
       "      <td>15</td>\n",
       "      <td>3</td>\n",
       "      <td>0.998395</td>\n",
       "      <td>0.5</td>\n",
       "      <td>0.0</td>\n",
       "      <td>182.692252</td>\n",
       "    </tr>\n",
       "  </tbody>\n",
       "</table>\n",
       "</div>"
      ],
      "text/plain": [
       "           key  no_of_features  hidden_layers  train_score  test_score  \\\n",
       "1  fraud_train              30              1     1.000000         1.0   \n",
       "2  fraud_train              15              3     1.000000         1.0   \n",
       "3  fraud_train              30              3     1.000000         1.0   \n",
       "1  fraud_train              30              1     1.000000         1.0   \n",
       "2  fraud_train              15              3     1.000000         1.0   \n",
       "3  fraud_train              30              3     1.000000         1.0   \n",
       "0  fraud_train              15              1     1.000000         1.0   \n",
       "1  fraud_train              30              1     1.000000         1.0   \n",
       "3  fraud_train              30              3     1.000000         1.0   \n",
       "0  fraud_train              15              1     0.998194         0.5   \n",
       "0  fraud_train              15              1     0.998194         0.5   \n",
       "2  fraud_train              15              3     0.998395         0.5   \n",
       "\n",
       "   quality_score  time_taken  \n",
       "1            1.0   16.865401  \n",
       "2            1.0   34.888917  \n",
       "3            1.0   35.212270  \n",
       "1            1.0   16.865401  \n",
       "2            1.0   34.888917  \n",
       "3            1.0   35.212270  \n",
       "0            1.0   87.747294  \n",
       "1            1.0   86.893035  \n",
       "3            1.0  180.114206  \n",
       "0            0.0   17.991847  \n",
       "0            0.0   17.991847  \n",
       "2            0.0  182.692252  "
      ]
     },
     "execution_count": 16,
     "metadata": {},
     "output_type": "execute_result"
    }
   ],
   "source": [
    "past_scores.sort_values(by='quality_score', ascending = False)"
   ]
  },
  {
   "cell_type": "code",
   "execution_count": 17,
   "metadata": {},
   "outputs": [
    {
     "data": {
      "text/html": [
       "<div>\n",
       "<style scoped>\n",
       "    .dataframe tbody tr th:only-of-type {\n",
       "        vertical-align: middle;\n",
       "    }\n",
       "\n",
       "    .dataframe tbody tr th {\n",
       "        vertical-align: top;\n",
       "    }\n",
       "\n",
       "    .dataframe thead th {\n",
       "        text-align: right;\n",
       "    }\n",
       "</style>\n",
       "<table border=\"1\" class=\"dataframe\">\n",
       "  <thead>\n",
       "    <tr style=\"text-align: right;\">\n",
       "      <th></th>\n",
       "      <th></th>\n",
       "      <th>key</th>\n",
       "      <th>train_score</th>\n",
       "      <th>test_score</th>\n",
       "      <th>quality_score</th>\n",
       "      <th>time_taken</th>\n",
       "    </tr>\n",
       "    <tr>\n",
       "      <th>no_of_features</th>\n",
       "      <th>hidden_layers</th>\n",
       "      <th></th>\n",
       "      <th></th>\n",
       "      <th></th>\n",
       "      <th></th>\n",
       "      <th></th>\n",
       "    </tr>\n",
       "  </thead>\n",
       "  <tbody>\n",
       "    <tr>\n",
       "      <th rowspan=\"2\" valign=\"top\">15</th>\n",
       "      <th>1</th>\n",
       "      <td>fraud_train</td>\n",
       "      <td>1.0</td>\n",
       "      <td>1.0</td>\n",
       "      <td>1.0</td>\n",
       "      <td>87.747294</td>\n",
       "    </tr>\n",
       "    <tr>\n",
       "      <th>3</th>\n",
       "      <td>fraud_train</td>\n",
       "      <td>1.0</td>\n",
       "      <td>1.0</td>\n",
       "      <td>1.0</td>\n",
       "      <td>34.888917</td>\n",
       "    </tr>\n",
       "    <tr>\n",
       "      <th rowspan=\"2\" valign=\"top\">30</th>\n",
       "      <th>1</th>\n",
       "      <td>fraud_train</td>\n",
       "      <td>1.0</td>\n",
       "      <td>1.0</td>\n",
       "      <td>1.0</td>\n",
       "      <td>16.865401</td>\n",
       "    </tr>\n",
       "    <tr>\n",
       "      <th>3</th>\n",
       "      <td>fraud_train</td>\n",
       "      <td>1.0</td>\n",
       "      <td>1.0</td>\n",
       "      <td>1.0</td>\n",
       "      <td>35.212270</td>\n",
       "    </tr>\n",
       "  </tbody>\n",
       "</table>\n",
       "</div>"
      ],
      "text/plain": [
       "                                      key  train_score  test_score  \\\n",
       "no_of_features hidden_layers                                         \n",
       "15             1              fraud_train          1.0         1.0   \n",
       "               3              fraud_train          1.0         1.0   \n",
       "30             1              fraud_train          1.0         1.0   \n",
       "               3              fraud_train          1.0         1.0   \n",
       "\n",
       "                              quality_score  time_taken  \n",
       "no_of_features hidden_layers                             \n",
       "15             1                        1.0   87.747294  \n",
       "               3                        1.0   34.888917  \n",
       "30             1                        1.0   16.865401  \n",
       "               3                        1.0   35.212270  "
      ]
     },
     "execution_count": 17,
     "metadata": {},
     "output_type": "execute_result"
    }
   ],
   "source": [
    "psg = past_scores.sort_values(by='quality_score', ascending=False).groupby(by=['no_of_features', 'hidden_layers'])\n",
    "psg.first().sort_values(by='quality_score', ascending=False)"
   ]
  },
  {
   "cell_type": "code",
   "execution_count": 18,
   "metadata": {},
   "outputs": [],
   "source": [
    "Train.predictions = pd.read_pickle(\"data/LSTM/tf_lstm_fraud_detectionpredictions.pkl\")"
   ]
  },
  {
   "cell_type": "code",
   "execution_count": 19,
   "metadata": {},
   "outputs": [
    {
     "data": {
      "text/plain": [
       "<class 'pandas.core.panel.Panel'>\n",
       "Dimensions: 4 (items) x 199364 (major_axis) x 4 (minor_axis)\n",
       "Items axis: fraud_train_15_1 to fraud_train_30_3\n",
       "Major_axis axis: 0 to 199363\n",
       "Minor_axis axis: Actual to Prediction"
      ]
     },
     "execution_count": 19,
     "metadata": {},
     "output_type": "execute_result"
    }
   ],
   "source": [
    "Train.predictions"
   ]
  },
  {
   "cell_type": "code",
   "execution_count": 20,
   "metadata": {},
   "outputs": [],
   "source": [
    "df = Train.predictions['fraud_train_30_3'].dropna()"
   ]
  },
  {
   "cell_type": "code",
   "execution_count": 21,
   "metadata": {},
   "outputs": [],
   "source": [
    "from sklearn import metrics as me\n",
    "def get_score(y_true, y_pred):\n",
    "    f1 = me.f1_score(y_true, y_pred)\n",
    "    pre = me.precision_score(y_true, y_pred)\n",
    "    rec = me.recall_score(y_true, y_pred)\n",
    "    acc = me.accuracy_score(y_true, y_pred)\n",
    "    return {\"F1 Score\":f1, \"Precision\":pre, \"Recall\":rec, \"Accuracy\":acc}"
   ]
  },
  {
   "cell_type": "code",
   "execution_count": 22,
   "metadata": {},
   "outputs": [
    {
     "data": {
      "text/html": [
       "<div>\n",
       "<style scoped>\n",
       "    .dataframe tbody tr th:only-of-type {\n",
       "        vertical-align: middle;\n",
       "    }\n",
       "\n",
       "    .dataframe tbody tr th {\n",
       "        vertical-align: top;\n",
       "    }\n",
       "\n",
       "    .dataframe thead th {\n",
       "        text-align: right;\n",
       "    }\n",
       "</style>\n",
       "<table border=\"1\" class=\"dataframe\">\n",
       "  <thead>\n",
       "    <tr style=\"text-align: right;\">\n",
       "      <th></th>\n",
       "      <th>Accuracy</th>\n",
       "      <th>F1 Score</th>\n",
       "      <th>Precision</th>\n",
       "      <th>Recall</th>\n",
       "      <th>Scenario</th>\n",
       "    </tr>\n",
       "  </thead>\n",
       "  <tbody>\n",
       "    <tr>\n",
       "      <th>0</th>\n",
       "      <td>1.0</td>\n",
       "      <td>1.0</td>\n",
       "      <td>1.0</td>\n",
       "      <td>1.0</td>\n",
       "      <td>Train</td>\n",
       "    </tr>\n",
       "  </tbody>\n",
       "</table>\n",
       "</div>"
      ],
      "text/plain": [
       "   Accuracy  F1 Score  Precision  Recall Scenario\n",
       "0       1.0       1.0        1.0     1.0    Train"
      ]
     },
     "execution_count": 22,
     "metadata": {},
     "output_type": "execute_result"
    }
   ],
   "source": [
    "from sklearn import metrics as me\n",
    "\n",
    "scores = get_score(df.loc[:,'Actual'].values.astype(int),\n",
    "                df.loc[:,'Prediction'].values.astype(int))\n",
    "scores.update({\"Scenario\":\"Train\"})\n",
    "score_df = pd.DataFrame(scores, index=[0])\n",
    "\n",
    "score_df"
   ]
  },
  {
   "cell_type": "code",
   "execution_count": 23,
   "metadata": {},
   "outputs": [
    {
     "data": {
      "text/plain": [
       "array([0, 0, 0, ..., 0, 0, 0])"
      ]
     },
     "execution_count": 23,
     "metadata": {},
     "output_type": "execute_result"
    }
   ],
   "source": [
    "df.loc[:,'Prediction'].values.astype(int)"
   ]
  },
  {
   "cell_type": "code",
   "execution_count": 24,
   "metadata": {},
   "outputs": [
    {
     "data": {
      "text/plain": [
       "1.0"
      ]
     },
     "execution_count": 24,
     "metadata": {},
     "output_type": "execute_result"
    }
   ],
   "source": [
    "from sklearn import metrics as me\n",
    "me.f1_score(df.loc[:,'Actual'].values.astype(int),\n",
    "            df.loc[:,'Prediction'].values.astype(int) )"
   ]
  },
  {
   "cell_type": "code",
   "execution_count": 25,
   "metadata": {},
   "outputs": [
    {
     "data": {
      "text/plain": [
       "1.0"
      ]
     },
     "execution_count": 25,
     "metadata": {},
     "output_type": "execute_result"
    }
   ],
   "source": [
    "me.matthews_corrcoef(df.loc[:,'Actual'].values.astype(int),\n",
    "            df.loc[:,'Prediction'].values.astype(int) )"
   ]
  },
  {
   "cell_type": "code",
   "execution_count": 26,
   "metadata": {},
   "outputs": [
    {
     "data": {
      "text/plain": [
       "Actual\n",
       "0.0    199008\n",
       "1.0       356\n",
       "Name: Actual, dtype: int64"
      ]
     },
     "execution_count": 26,
     "metadata": {},
     "output_type": "execute_result"
    }
   ],
   "source": [
    "df.groupby(by=\"Actual\").Actual.count()"
   ]
  },
  {
   "cell_type": "code",
   "execution_count": 27,
   "metadata": {},
   "outputs": [
    {
     "data": {
      "image/png": "[encoded data removed]",
      "text/plain": [
       "<matplotlib.figure.Figure at 0x16177208>"
      ]
     },
     "metadata": {},
     "output_type": "display_data"
    }
   ],
   "source": [
    "plot(actual_value = df.loc[:,'Actual'].values.astype(int),\n",
    "     pred_value = df.loc[:,'Prediction'].values.astype(int))"
   ]
  },
  {
   "cell_type": "code",
   "execution_count": 28,
   "metadata": {},
   "outputs": [
    {
     "data": {
      "text/plain": [
       "array([0, 0, 0, ..., 0, 0, 0])"
      ]
     },
     "execution_count": 28,
     "metadata": {},
     "output_type": "execute_result"
    }
   ],
   "source": [
    "actual_value = df.loc[:,'Actual'].values.astype(int)\n",
    "pred_value = df.loc[:,'Prediction'].values.astype(int)\n",
    "#true_positive_rate = 1\n",
    "#false_positive_rate = 0\n",
    "pred_value"
   ]
  },
  {
   "cell_type": "code",
   "execution_count": 29,
   "metadata": {},
   "outputs": [],
   "source": [
    "from sklearn.metrics import roc_curve, auc\n",
    "import matplotlib.pyplot as plt\n",
    "import random"
   ]
  },
  {
   "cell_type": "code",
   "execution_count": 30,
   "metadata": {},
   "outputs": [
    {
     "data": {
      "image/png": "[encoded data removed]",
      "text/plain": [
       "<matplotlib.figure.Figure at 0x158bcfd0>"
      ]
     },
     "metadata": {},
     "output_type": "display_data"
    }
   ],
   "source": [
    "false_positive_rate, true_positive_rate, threshold = roc_curve(actual_value, pred_value)\n",
    "roc_auc = auc(false_positive_rate, true_positive_rate)\n",
    "\n",
    "plt.title('Reciever operating characteristic')\n",
    "plt.plot(false_positive_rate, true_positive_rate, 'b', label='AUC = %0.2f'% roc_auc)\n",
    "plt.legend(loc = 'lower right')\n",
    "plt.plot([0,1],[0,1], 'r--')\n",
    "plt.xlim([-0.1,1.2])\n",
    "plt.ylim([-0.1,1.2])\n",
    "plt.ylabel('True Positive Rate')\n",
    "plt.xlabel('False Positive Rate')\n",
    "plt.show()\n"
   ]
  },
  {
   "cell_type": "code",
   "execution_count": null,
   "metadata": {},
   "outputs": [],
   "source": []
  }
 ],
 "metadata": {
  "kernelspec": {
   "display_name": "Python 3",
   "language": "python",
   "name": "python3"
  },
  "language_info": {
   "codemirror_mode": {
    "name": "ipython",
    "version": 3
   },
   "file_extension": ".py",
   "mimetype": "text/x-python",
   "name": "python",
   "nbconvert_exporter": "python",
   "pygments_lexer": "ipython3",
   "version": "3.6.3"
  }
 },
 "nbformat": 4,
 "nbformat_minor": 2
}
